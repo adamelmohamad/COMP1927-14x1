{
  "nbformat": 4,
  "nbformat_minor": 0,
  "metadata": {
    "language_info": {
      "codemirror_mode": {
        "name": "ipython",
        "version": 3
      },
      "file_extension": ".py",
      "mimetype": "text/x-python",
      "name": "python",
      "nbconvert_exporter": "python",
      "pygments_lexer": "ipython3",
      "version": "3.8.6-final"
    },
    "orig_nbformat": 2,
    "kernelspec": {
      "name": "python38564bit16056ce0e98a49208e5744e26803b7c0",
      "display_name": "Python 3.8.6 64-bit"
    },
    "metadata": {
      "interpreter": {
        "hash": "1ee38ef4a5a9feb55287fd749643f13d043cb0a7addaab2a9c224cbe137c0062"
      }
    },
    "colab": {
      "name": "exam (12).ipynb",
      "provenance": [],
      "include_colab_link": true
    }
  },
  "cells": [
    {
      "cell_type": "markdown",
      "metadata": {
        "id": "view-in-github",
        "colab_type": "text"
      },
      "source": [
        "<a href=\"https://colab.research.google.com/github/adamelmohamad/COMP1927-14x1/blob/master/exam_(12).ipynb\" target=\"_parent\"><img src=\"https://colab.research.google.com/assets/colab-badge.svg\" alt=\"Open In Colab\"/></a>"
      ]
    },
    {
      "cell_type": "markdown",
      "metadata": {
        "id": "BDPNqhmqI03R"
      },
      "source": [
        "# COMP1010 Exam (21T1)\n",
        "\n",
        "## Value: 50 marks\n",
        "\n",
        "## Advice\n",
        "\n",
        "* Read all instructions carefully. You should look at both the question and the testing cell for the programming questions befor you attempt them.\n",
        "* For each question, include your best attempt at solving the problem. Partial marks may be awarded for incomplete or non-working solutions. You can comment out incomplete code if necessary.\n",
        "* If you're stuck, it is often helpful to move on to another problem for a while and come back.\n",
        "* The final part of the final question is intended to be challenging. Only spend time on it if you have solved the other questions."
      ]
    },
    {
      "cell_type": "markdown",
      "metadata": {
        "id": "BHDRGjpkI03r"
      },
      "source": [
        "## Short Answer (10 marks)\n",
        "\n",
        "For this section, write your answers by replacing the text in *italics*. Answers should be no longer than a few sentences."
      ]
    },
    {
      "cell_type": "markdown",
      "metadata": {
        "id": "W89tqAneI03t"
      },
      "source": [
        "#### Question 1 (1 mark)\n",
        "What is a string?\n",
        "\n",
        "A string is an array of characters. For example, \"Hello\" or \"World\" are strings.\n",
        "\n",
        "#### Question 2 (2 marks)\n",
        "In programming languages like Python, what are functions? What is their primary purpose?\n",
        "\n",
        "A function is a segment of code which only runs when it is called. Parameters can be passed to the function, and the function can return data in the form of a variable. \n",
        "\n",
        "The primary purpose of functions is exactly this - to give them data so that they can return another useful piece of data, without having to constantly re-write the same segment of code.\n",
        "\n",
        "#### Question 3 (2 marks)\n",
        "Describe what values of `x` make this boolean value `True` (2 marks):\n",
        "```python\n",
        "len(x) == 4 and ('e' in x or x[0] == s)\n",
        "```\n",
        "\n",
        "x = \"hell\" \n",
        "  OR\n",
        "x = \"sell\"\n",
        "\n",
        "would both make it true\n",
        "\n",
        "\n",
        "#### Question 4 (2 marks)\n",
        "Based on what has been covered in this course, what is the difference between a web browser and web server?\n",
        "\n",
        "A web browser is a piece of software that lets us browse the web by making requests to web servers. Examples include: Chrome, Firefox, Edge, Safari, etc.\n",
        "\n",
        "On the other hand, a web server is a piece of software that runs somewhere on the internet, responding to requests from web browsers.\n",
        "\n",
        "#### Question 5 (2 marks)\n",
        "What is the difference between a tuple and a list in Python? Why does Python feature these two different ordered collections?\n",
        "\n",
        "In Python, a list is a sequence of elements, and it is mutable. Whereas a tuple is a collection of elements, and it is immutable. \n",
        "\n",
        "This means that we can change the values of a list but we cannot change the values of a tuple.\n",
        "\n",
        "Python features these two different data types to make it easier to work with forms of data that vary. That is, tuples are conventionally used to store heterogeneous elements, which are elements belonging to different data types. \n",
        "Lists, on the other hand, are used to store homogenous elements, which are elements that belong to the same type.\n",
        "\n",
        "#### Question 6 (1 mark)\n",
        "What is a cookie?\n",
        "\n",
        "Cookies are small pieces of information sent by the server to the web browser in HTTP responses. These pieces of information are then sent back to the server every time the browser makes a new request."
      ]
    },
    {
      "cell_type": "markdown",
      "metadata": {
        "id": "fj1GK7jQI03w"
      },
      "source": [
        "## Programming Exercises (40 marks)"
      ]
    },
    {
      "cell_type": "markdown",
      "metadata": {
        "id": "1ACGBwAhI03x"
      },
      "source": [
        "### Restaurant finder (10 marks)\n",
        "\n",
        "The following dictionary contains some local restaurants. Each restaurant has an indicative price range and a list of dietary options. For the price range, `$` is cheap, `$$` is moderately priced and `$$$` is expensive."
      ]
    },
    {
      "cell_type": "code",
      "metadata": {
        "id": "pvmIoh0CI03z"
      },
      "source": [
        "restaurants = {\n",
        "    \"Billy's Burgers\": {\n",
        "        \"price_range\": \"$\",\n",
        "        \"options\": []\n",
        "    },\n",
        "    \"Harbour Seafood\": {\n",
        "        \"price_range\": \"$$$\",\n",
        "        \"options\": [\"gluten-free\"]\n",
        "    },\n",
        "    \"UNSW Restaurant\": {\n",
        "        \"price_range\": \"$$\",\n",
        "        \"options\": [\"gluten-free\", \"vegetarian\"]\n",
        "    },\n",
        "    \"It's a Thai\": {\n",
        "        \"price_range\": \"$\",\n",
        "        \"options\": [\"vegetarian\"]\n",
        "    }\n",
        "}"
      ],
      "execution_count": 5,
      "outputs": []
    },
    {
      "cell_type": "markdown",
      "metadata": {
        "id": "Oh45vS73I031"
      },
      "source": [
        "Suppose you and a group of friends want to get dinner together, but are unsure what local restaurants meet everyone's requirements. For example, some members of your group can only afford to eat at cheap restaurants while others are vegetarian or eat only gluten-free food.\n",
        "\n",
        "Implement the function `suitable_restaurants(preferences)`, that, given everyone's individual preference, determines all restaurants that meet *all* preferences. See the testing cell below for examples.\n",
        "\n",
        "**NOTE:** You can assume everyone in the group specifies both a maximum price range and a list of dietary requirements."
      ]
    },
    {
      "cell_type": "code",
      "metadata": {
        "id": "f19Jn-M9I033"
      },
      "source": [
        "def suitable_restaurants(preferences):\n",
        "  agreed_price = \"$$$\"\n",
        "  agreed_diet = []\n",
        "  restuarants_required = []\n",
        "  for preference in preferences:\n",
        "    if len(preference[\"maximum_price\"]) < len(agreed_price):\n",
        "      agreed_price = preference[\"maximum_price\"]\n",
        "    if len(preference[\"diet\"]) > 0:\n",
        "      agreed_diet = agreed_diet + preference[\"diet\"]\n",
        "\n",
        "  for restaurant in restaurants:\n",
        "    if len(restaurants[restaurant][\"price_range\"]) <= len(agreed_price):\n",
        "      if (len(restaurants[restaurant][\"options\"]) > 0 and (set(agreed_diet) <= set(restaurants[restaurant][\"options\"]))) or agreed_diet == restaurants[restaurant][\"options\"]:\n",
        "        restuarants_required.append(restaurant)\n",
        "  return restuarants_required\n"
      ],
      "execution_count": 6,
      "outputs": []
    },
    {
      "cell_type": "markdown",
      "metadata": {
        "id": "EceCnC3WI034"
      },
      "source": [
        "Use this cell to test your function"
      ]
    },
    {
      "cell_type": "code",
      "metadata": {
        "id": "AQHztcCaI035"
      },
      "source": [
        "\n",
        "assert suitable_restaurants([\n",
        "    { \"maximum_price\": \"$\", \"diet\": [] }\n",
        "    ]) == [\"Billy's Burgers\", \"It's a Thai\"]\n",
        "\n",
        "assert suitable_restaurants([\n",
        "    { \"maximum_price\": \"$$\", \"diet\": [] }, \n",
        "    { \"maximum_price\": \"$$$\", \"diet\": [\"vegetarian\"] }\n",
        "    ]) == [\"UNSW Restaurant\", \"It's a Thai\"]\n",
        "assert suitable_restaurants([\n",
        "    { \"maximum_price\": \"$\", \"diet\": [\"gluten-free\"] }, \n",
        "    { \"maximum_price\": \"$\", \"diet\": [\"vegetarian\"] }\n",
        "    ]) == []\n",
        "assert suitable_restaurants([\n",
        "    { \"maximum_price\": \"$$$\", \"diet\": [] }, \n",
        "    { \"maximum_price\": \"$$$\", \"diet\": [\"gluten-free\"] }\n",
        "    ]) == [\"Harbour Seafood\", \"UNSW Restaurant\"]\n",
        "assert suitable_restaurants([\n",
        "    { \"maximum_price\": \"$$$\", \"diet\": [\"gluten-free\", \"vegetarian\"] }\n",
        "    ]) == [\"UNSW Restaurant\"]\n"
      ],
      "execution_count": 7,
      "outputs": []
    },
    {
      "cell_type": "markdown",
      "metadata": {
        "id": "M95H1UYRI037"
      },
      "source": [
        "### Redacted (10 marks)\n",
        "\n",
        "Censoring certain words in English text can be hard as words take on many forms (capitalisation, plurals, posessives, etc.). Implement the function `censor(text, words)` that censors `text` by replacing all the words in `words` with \"REDACTED\". To get full marks, you must also replace words in these additional cases:\n",
        "\n",
        "* If their letters are capitalised differently (e.g. \"Rob\" is treated the same as \"rob).\n",
        "* If they have had a single \"s\" added to the end (e.g. \"cats\" is treated the same as \"cat\"). \n",
        "* If they have had an apostrophe followed by an \"s\" added to end (e.g. \"Rob's\" should be treated the same as \"Rob\")\n",
        "* They end with an \"s\" and have had \"es\" added to the end of them (e.g. \"buses\" should be treated the same as \"bus\").\n",
        "\n",
        "Furthermore, to get full marks you also must correctly handle all of the punctuation used in the testing cells (full stops and commas)."
      ]
    },
    {
      "cell_type": "code",
      "metadata": {
        "id": "VkkoQ-TpI038"
      },
      "source": [
        "def censor_word(word, copy_text):\n",
        "  if \".\" in word:\n",
        "    copy_text[copy_text.index(word)] = \"REDACTED.\"\n",
        "  elif \",\" in word:\n",
        "    copy_text[copy_text.index(word)] = \"REDACTED,\"\n",
        "  else:\n",
        "    copy_text[copy_text.index(word)] = \"REDACTED\"\n",
        "  return copy_text\n",
        "\n",
        "def censor(text, words):\n",
        "  copy_text = text.split()\n",
        "  for word in copy_text:\n",
        "    copy_word = word\n",
        "    copy_word = copy_word.lower().replace(\".\", \"\").replace(\",\", \"\")\n",
        "    if copy_word in words:\n",
        "      censor_word(word, copy_text)\n",
        "    elif word[len(word) - 1] == \"s\" and word[0:len(word)-1].lower() in words:\n",
        "      censor_word(word, copy_text)\n",
        "    elif word[len(word) - 1] == \"s\" and word[len(word) - 2] == \"'\" and word[0:len(word)-2].lower() in words:\n",
        "      censor_word(word, copy_text)\n",
        "    elif word[len(word) - 1] == \"s\" and word[len(word) - 2] == \"e\" and word[len(word) - 3] == \"s\" and word[0:len(word)-2].lower() in words:\n",
        "      censor_word(word, copy_text)\n",
        "  return \" \".join(copy_text)\n"
      ],
      "execution_count": 8,
      "outputs": []
    },
    {
      "cell_type": "markdown",
      "metadata": {
        "id": "2RXW6jzmI03-"
      },
      "source": [
        "Use the cell below to test your solution"
      ]
    },
    {
      "cell_type": "code",
      "metadata": {
        "id": "Whutvgt7I03_"
      },
      "source": [
        "assert censor(\"The cat sat on the mat\", [\"cat\"]) == \"The REDACTED sat on the mat\"\n",
        "assert censor(\"He examined the exam\", [\"exam\"]) == \"He examined the REDACTED\"\n",
        "assert censor(\"Rob scratched his head\", [\"rob\"]) == \"REDACTED scratched his head\"\n",
        "assert censor(\"OH IT'S SO SCARY\", [\"scary\"]) == \"OH IT'S SO REDACTED\"\n",
        "assert censor(\"The cats plotted their revenge\", [\"cat\", \"revenge\"]) == \"The REDACTED plotted their REDACTED\"\n",
        "assert censor(\"Rob's face had a puzzled expression\", [\"rob\", \"puzzled\"]) == \"REDACTED face had a REDACTED expression\"\n",
        "assert censor(\"The buses in Sydney are always on time\", [\"bus\"]) == \"The REDACTED in Sydney are always on time\"\n",
        "assert censor(\"The rat's rates were rather high\", [\"rat\"]) == \"The REDACTED rates were rather high\"\n",
        "assert censor(\"Welcome to UNSW Sydney, one of Australia's leading research and teaching universities. At UNSW, we take pride in the broad range and high quality of our teaching programs.\", [\"unsw\", \"sydney\", \"australia\", \"teaching\", \"pride\"]) == \"Welcome to REDACTED REDACTED, one of REDACTED leading research and REDACTED universities. At REDACTED, we take REDACTED in the broad range and high quality of our REDACTED programs.\""
      ],
      "execution_count": 9,
      "outputs": []
    },
    {
      "cell_type": "markdown",
      "metadata": {
        "id": "n3-se2RXI04B"
      },
      "source": [
        "### Keeping it brief (10 marks)\n",
        "\n",
        "A simple way of reducing the size of text is replacing additional occurences of words with numbers that correspond to the relative positions of previous occurences. For example, \"the cat sat on the mat\" becomes \"the cat sat on 4 mat\". This is because the the second time the word \"the\" is used is 4 words after the first time.\n",
        "\n",
        "If a word appears multiple times then there are multiple possible reductions. For example, \"the old lady sat on the old chair in the old house\" can be reduced to:\n",
        "\n",
        "* \"the old lady sat on 5 5 chair in 9 9 house\", or\n",
        "* \"the old lady sat on 5 5 chair in 4 4 house\", or\n",
        "* \"the old lady sat on 5 5 chair in 9 4 house\", or\n",
        "* \"the old lady sat on 5 5 chair in 4 9 house\", or"
      ]
    },
    {
      "cell_type": "markdown",
      "metadata": {
        "id": "9TSHTgWVI04C"
      },
      "source": [
        "#### Expanding\n",
        "\n",
        "Write the function `expand_text(reduced)` that takes in already reduced text and expands it out to its original form. You can assume that the text is all in lowercase and contains no punctuation."
      ]
    },
    {
      "cell_type": "code",
      "metadata": {
        "id": "e7v1gsQdI04D"
      },
      "source": [
        "def expand_text(reduced):\n",
        "  reduced_array = reduced.split()\n",
        "  expanded_array = reduced_array\n",
        "  for word in reduced_array:\n",
        "    if word.isdigit():\n",
        "      expanded_array[reduced_array.index(word)] = reduced_array[reduced_array.index(word) - int(word)]\n",
        "  return \" \".join(expanded_array)"
      ],
      "execution_count": 10,
      "outputs": []
    },
    {
      "cell_type": "markdown",
      "metadata": {
        "id": "dIE35W5xI04E"
      },
      "source": [
        "Use the cell below to test your solution."
      ]
    },
    {
      "cell_type": "code",
      "metadata": {
        "id": "YmUo70KWI04F"
      },
      "source": [
        "assert expand_text(\"the cat sat on 4 mat\") == \"the cat sat on the mat\"\n",
        "assert expand_text(\"the old lady sat on 5 5 chair in 9 9 house\") == \"the old lady sat on the old chair in the old house\"\n",
        "assert expand_text(\"the old lady sat on 5 5 chair in 4 4 house\") == \"the old lady sat on the old chair in the old house\"\n",
        "assert expand_text(\"the old lady sat on 5 5 chair in 9 4 house\") == \"the old lady sat on the old chair in the old house\"\n",
        "assert expand_text(\"the old lady sat on 5 5 chair in 4 9 house\") == \"the old lady sat on the old chair in the old house\"\n",
        "assert expand_text(\"how much wood would a woodchuck chuck if 4 4 7 5 10\") == \"how much wood would a woodchuck chuck if a woodchuck would chuck wood\""
      ],
      "execution_count": 11,
      "outputs": []
    },
    {
      "cell_type": "markdown",
      "metadata": {
        "id": "hVz_R3OqI04G"
      },
      "source": [
        "#### Reducing\n",
        "\n",
        "Implement the function `reduce_text(text)` that returns a possible reduction of the given text. You can assume that the text is all in lowercase and contains no puncuation."
      ]
    },
    {
      "cell_type": "code",
      "metadata": {
        "id": "okkDbFJBI04H"
      },
      "source": [
        "def reduce_text(text):\n",
        "  reduced_text = []\n",
        "  words = text.split()\n",
        "  i = 0\n",
        "  for word in words:\n",
        "    if word in reduced_text:\n",
        "      reduced_text.append(str(i - words.index(word)))\n",
        "    else:\n",
        "      reduced_text.append(word)\n",
        "    i = i + 1\n",
        "  return \" \".join(reduced_text)"
      ],
      "execution_count": 12,
      "outputs": []
    },
    {
      "cell_type": "markdown",
      "metadata": {
        "id": "bchPO8StI04I"
      },
      "source": [
        "Use the testing cell below to test your solution. Note that the second assert handles all possible reductions. "
      ]
    },
    {
      "cell_type": "code",
      "metadata": {
        "id": "8wxMZo4II04J"
      },
      "source": [
        "assert reduce_text(\"the cat sat on the mat\") == \"the cat sat on 4 mat\"\n",
        "assert reduce_text(\"the old lady sat on the old chair in the old house\") in [\n",
        "    \"the old lady sat on 5 5 chair in 9 9 house\",\n",
        "    \"the old lady sat on 5 5 chair in 4 4 house\",\n",
        "    \"the old lady sat on 5 5 chair in 9 4 house\",\n",
        "    \"the old lady sat on 5 5 chair in 4 9 house\"]\n",
        "assert reduce_text(\"how much wood would a woodchuck chuck if a woodchuck would chuck wood\") == \"how much wood would a woodchuck chuck if 4 4 7 5 10\"\n"
      ],
      "execution_count": 13,
      "outputs": []
    },
    {
      "cell_type": "markdown",
      "metadata": {
        "id": "cHxV4YYDI04K"
      },
      "source": [
        "### Fragmented text (10 marks)\n",
        "\n",
        "#### One overlap\n",
        "\n",
        "Write the function `overlapping(start, end)`, that, for the two given strings, determines how many characters at the end of `start` overlap with those at the start of `end`. For example, \"hell\" and \"llo\" have an overlap of 2 as the first ends with \"ll\" and the second starts with \"ll\". Some more examples are in the test cell below."
      ]
    },
    {
      "cell_type": "code",
      "metadata": {
        "id": "Q5uRgs__I04L"
      },
      "source": [
        "def overlapping(start,end):\n",
        "  i = 0\n",
        "  overlap = 0\n",
        "  if len(start) > len(end):\n",
        "    index = len(start) - len(end)\n",
        "  else:\n",
        "    index = 0\n",
        "  for letter in start[index:]:\n",
        "    if letter == end[i]:\n",
        "      i = i + 1\n",
        "      overlap = overlap + 1\n",
        "  return overlap"
      ],
      "execution_count": 14,
      "outputs": []
    },
    {
      "cell_type": "markdown",
      "metadata": {
        "id": "Y53rm2F_I04M"
      },
      "source": [
        "Use this cell to test your function."
      ]
    },
    {
      "cell_type": "code",
      "metadata": {
        "id": "ndyZAFnWI04M"
      },
      "source": [
        "assert overlapping(\"hell\", \"llo\") == 2\n",
        "assert overlapping(\"abracadabra\", \"abrasive\") == 4\n",
        "assert overlapping(\"hello\", \"goodbye\") == 0\n",
        "assert overlapping(\"hello\", \"hell\") == 0\n",
        "assert overlapping(\"hell\", \"smell\") == 0"
      ],
      "execution_count": 15,
      "outputs": []
    },
    {
      "cell_type": "markdown",
      "metadata": {
        "id": "hYXiYf_JI04N"
      },
      "source": [
        "Using the `overlapping(start, end)` function, implement the `overlap(start, end)` function. This function should combine the two strings and remove any overlap. For example, \"hell\" combined with \"llo\" is \"hello\""
      ]
    },
    {
      "cell_type": "code",
      "metadata": {
        "id": "3U3a-7nAI04P"
      },
      "source": [
        "def overlap(start, end):\n",
        "  i = 0\n",
        "  overlap_list = []\n",
        "  if len(start) > len(end):\n",
        "    index = len(start) - len(end)\n",
        "  else:\n",
        "    index = 0\n",
        "  for letter in start[index:]:\n",
        "    if letter == end[i]:\n",
        "      i = i + 1\n",
        "      overlap_list.append(letter)\n",
        "  overlap_str = \"\".join(overlap_list)\n",
        "  end = end.replace(\"\".join(overlap_list), \"\")\n",
        "\n",
        "  return start + end"
      ],
      "execution_count": 16,
      "outputs": []
    },
    {
      "cell_type": "markdown",
      "metadata": {
        "id": "o8p7F_JnI04Q"
      },
      "source": [
        "Use this cell to test your function."
      ]
    },
    {
      "cell_type": "code",
      "metadata": {
        "id": "sR5csrKOI04Q"
      },
      "source": [
        "assert overlap(\"hell\", \"llo\") == \"hello\"\n",
        "assert overlap(\"abracadabra\", \"abrasive\") == \"abracadabrasive\"\n",
        "assert overlap(\"hello\", \"goodbye\") == \"hellogoodbye\"\n",
        "assert overlap(\"hello\", \"hell\") == \"hellohell\"\n",
        "assert overlap(\"hell\", \"smell\") == \"hellsmell\""
      ],
      "execution_count": 17,
      "outputs": []
    },
    {
      "cell_type": "markdown",
      "metadata": {
        "id": "aXWhoOjoI04R"
      },
      "source": [
        "#### Many overlaps (hard)\n",
        "\n",
        "Using `overlap(start, end`), implement the function `overlap_chain(strings)`. This function should combine a list of strings into one string, removing as much overlap as possible.\n",
        "\n",
        "**NOTE**: This function may be harder than it first appears. In particular, consider that `overlap(\"ab\", overlap(\"a\", \"b\")) == \"ab\"` but `overlap(overlap(\"ab\", \"a\"), \"b) == \"abab\"`."
      ]
    },
    {
      "cell_type": "code",
      "metadata": {
        "id": "4OtEKRUBI04S"
      },
      "source": [
        "def overlap_chain(strings):\n",
        "  if len(strings) == 2:\n",
        "    return overlap(strings[0], strings[1])\n",
        "  elif len(strings) == 3:\n",
        "    return overlap(strings[0], overlap_chain(strings[1:]))\n",
        "  else:\n",
        "    return overlap(overlap(strings[0], strings[1]), overlap_chain(strings[2:]))"
      ],
      "execution_count": 18,
      "outputs": []
    },
    {
      "cell_type": "markdown",
      "metadata": {
        "id": "rKmT7IiMI04T"
      },
      "source": [
        "Use this cell to test your functions."
      ]
    },
    {
      "cell_type": "code",
      "metadata": {
        "colab": {
          "base_uri": "https://localhost:8080/",
          "height": 195
        },
        "id": "w-jJdGlbI04U",
        "outputId": "beaf4f27-449e-4b27-e277-1ccdab2904ea"
      },
      "source": [
        "assert overlap_chain([\"goo\", \"ood\", \"bye\"]) == \"goodbye\"\n",
        "assert overlap_chain([\"wha\", \"hat's\", \"hat's going\", \"going on\"]) == \"what's going on\"\n",
        "assert overlap_chain([\"kin\", \"da\", \"inda\", \" tricky\"]) == \"kinda tricky\"\n",
        "assert overlap_chain([\"even tri\", \"ricki\", \"ick\", \"ier\"]) == \"even trickier\"\n",
        "assert overlap_chain([\"ok\", \"ay\", \"kay, this\", \" is \", \"is\", \" hard\"]) == \"okay, this is hard\"\n",
        "assert overlap_chain([\"oh n\", \"o\", \", how?\"]) == \"oh no, how?\""
      ],
      "execution_count": 19,
      "outputs": [
        {
          "output_type": "error",
          "ename": "AssertionError",
          "evalue": "ignored",
          "traceback": [
            "\u001b[0;31m---------------------------------------------------------------------------\u001b[0m",
            "\u001b[0;31mAssertionError\u001b[0m                            Traceback (most recent call last)",
            "\u001b[0;32m<ipython-input-19-97befcddf7e0>\u001b[0m in \u001b[0;36m<module>\u001b[0;34m()\u001b[0m\n\u001b[1;32m      4\u001b[0m \u001b[0;32massert\u001b[0m \u001b[0moverlap_chain\u001b[0m\u001b[0;34m(\u001b[0m\u001b[0;34m[\u001b[0m\u001b[0;34m\"even tri\"\u001b[0m\u001b[0;34m,\u001b[0m \u001b[0;34m\"ricki\"\u001b[0m\u001b[0;34m,\u001b[0m \u001b[0;34m\"ick\"\u001b[0m\u001b[0;34m,\u001b[0m \u001b[0;34m\"ier\"\u001b[0m\u001b[0;34m]\u001b[0m\u001b[0;34m)\u001b[0m \u001b[0;34m==\u001b[0m \u001b[0;34m\"even trickier\"\u001b[0m\u001b[0;34m\u001b[0m\u001b[0;34m\u001b[0m\u001b[0m\n\u001b[1;32m      5\u001b[0m \u001b[0;32massert\u001b[0m \u001b[0moverlap_chain\u001b[0m\u001b[0;34m(\u001b[0m\u001b[0;34m[\u001b[0m\u001b[0;34m\"ok\"\u001b[0m\u001b[0;34m,\u001b[0m \u001b[0;34m\"ay\"\u001b[0m\u001b[0;34m,\u001b[0m \u001b[0;34m\"kay, this\"\u001b[0m\u001b[0;34m,\u001b[0m \u001b[0;34m\" is \"\u001b[0m\u001b[0;34m,\u001b[0m \u001b[0;34m\"is\"\u001b[0m\u001b[0;34m,\u001b[0m \u001b[0;34m\" hard\"\u001b[0m\u001b[0;34m]\u001b[0m\u001b[0;34m)\u001b[0m \u001b[0;34m==\u001b[0m \u001b[0;34m\"okay, this is hard\"\u001b[0m\u001b[0;34m\u001b[0m\u001b[0;34m\u001b[0m\u001b[0m\n\u001b[0;32m----> 6\u001b[0;31m \u001b[0;32massert\u001b[0m \u001b[0moverlap_chain\u001b[0m\u001b[0;34m(\u001b[0m\u001b[0;34m[\u001b[0m\u001b[0;34m\"oh n\"\u001b[0m\u001b[0;34m,\u001b[0m \u001b[0;34m\"o\"\u001b[0m\u001b[0;34m,\u001b[0m \u001b[0;34m\", how?\"\u001b[0m\u001b[0;34m]\u001b[0m\u001b[0;34m)\u001b[0m \u001b[0;34m==\u001b[0m \u001b[0;34m\"oh no, how?\"\u001b[0m\u001b[0;34m\u001b[0m\u001b[0;34m\u001b[0m\u001b[0m\n\u001b[0m",
            "\u001b[0;31mAssertionError\u001b[0m: "
          ]
        }
      ]
    }
  ]
}